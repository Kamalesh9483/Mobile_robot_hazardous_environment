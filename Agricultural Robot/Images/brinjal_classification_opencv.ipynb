{
 "cells": [
  {
   "cell_type": "code",
   "execution_count": 4,
   "metadata": {},
   "outputs": [],
   "source": [
    "import cv2\n",
    "import numpy as np"
   ]
  },
  {
   "cell_type": "code",
   "execution_count": 5,
   "metadata": {},
   "outputs": [],
   "source": [
    "def empty(a):\n",
    "    pass\n",
    "\n",
    "# Creating Trackbar for colour detection\n",
    "cv2.namedWindow(\"Trackbar\")\n",
    "cv2.resizeWindow(\"Trackbar\",500,500)\n",
    "\n",
    "# Setting HUE, SATURATION, VALUE min and max values\n",
    "cv2.createTrackbar(\"Hue Min\",\"Trackbar\", 34, 179, empty)\n",
    "cv2.createTrackbar(\"Hue Max\",\"Trackbar\", 109, 179, empty)\n",
    "cv2.createTrackbar(\"Sat Min\",\"Trackbar\", 0, 255, empty)\n",
    "cv2.createTrackbar(\"Sat Max\",\"Trackbar\", 255, 255, empty)\n",
    "cv2.createTrackbar(\"Val Min\",\"Trackbar\", 0, 255, empty)\n",
    "cv2.createTrackbar(\"Val Max\",\"Trackbar\", 255, 255, empty)"
   ]
  },
  {
   "cell_type": "code",
   "execution_count": 6,
   "metadata": {},
   "outputs": [
    {
     "ename": "error",
     "evalue": "OpenCV(4.5.4) D:\\a\\opencv-python\\opencv-python\\opencv\\modules\\highgui\\src\\window_w32.cpp:2581: error: (-27:Null pointer) NULL window: 'Trackbar' in function 'cvGetTrackbarPos'\n",
     "output_type": "error",
     "traceback": [
      "\u001b[1;31m---------------------------------------------------------------------------\u001b[0m",
      "\u001b[1;31merror\u001b[0m                                     Traceback (most recent call last)",
      "\u001b[1;32m~\\AppData\\Local\\Temp\\ipykernel_11472\\2766478958.py\u001b[0m in \u001b[0;36m<module>\u001b[1;34m\u001b[0m\n\u001b[0;32m      6\u001b[0m \u001b[1;33m\u001b[0m\u001b[0m\n\u001b[0;32m      7\u001b[0m     \u001b[1;31m# Getting Trackbar control\u001b[0m\u001b[1;33m\u001b[0m\u001b[1;33m\u001b[0m\u001b[1;33m\u001b[0m\u001b[0m\n\u001b[1;32m----> 8\u001b[1;33m     \u001b[0mh_min\u001b[0m \u001b[1;33m=\u001b[0m \u001b[0mcv2\u001b[0m\u001b[1;33m.\u001b[0m\u001b[0mgetTrackbarPos\u001b[0m\u001b[1;33m(\u001b[0m\u001b[1;34m\"Hue Min\"\u001b[0m\u001b[1;33m,\u001b[0m\u001b[1;34m\"Trackbar\"\u001b[0m\u001b[1;33m)\u001b[0m\u001b[1;33m\u001b[0m\u001b[1;33m\u001b[0m\u001b[0m\n\u001b[0m\u001b[0;32m      9\u001b[0m     \u001b[0mh_max\u001b[0m \u001b[1;33m=\u001b[0m \u001b[0mcv2\u001b[0m\u001b[1;33m.\u001b[0m\u001b[0mgetTrackbarPos\u001b[0m\u001b[1;33m(\u001b[0m\u001b[1;34m\"Hue Max\"\u001b[0m\u001b[1;33m,\u001b[0m\u001b[1;34m\"Trackbar\"\u001b[0m\u001b[1;33m)\u001b[0m\u001b[1;33m\u001b[0m\u001b[1;33m\u001b[0m\u001b[0m\n\u001b[0;32m     10\u001b[0m     \u001b[0ms_min\u001b[0m \u001b[1;33m=\u001b[0m \u001b[0mcv2\u001b[0m\u001b[1;33m.\u001b[0m\u001b[0mgetTrackbarPos\u001b[0m\u001b[1;33m(\u001b[0m\u001b[1;34m\"Sat Min\"\u001b[0m\u001b[1;33m,\u001b[0m\u001b[1;34m\"Trackbar\"\u001b[0m\u001b[1;33m)\u001b[0m\u001b[1;33m\u001b[0m\u001b[1;33m\u001b[0m\u001b[0m\n",
      "\u001b[1;31merror\u001b[0m: OpenCV(4.5.4) D:\\a\\opencv-python\\opencv-python\\opencv\\modules\\highgui\\src\\window_w32.cpp:2581: error: (-27:Null pointer) NULL window: 'Trackbar' in function 'cvGetTrackbarPos'\n"
     ]
    }
   ],
   "source": [
    "while True:\n",
    "    # Reading image and converting BGR to HSV image\n",
    "    img = cv2.imread(\"C:\\\\Projects\\\\Mobile robot in hazardous environment\\\\Agricultural Robot\\\\Images\\\\\\images\\\\brinjal3.jpg\")\n",
    "    # img = img.resize((250, 250))\n",
    "    imghsv = cv2.cvtColor(img,cv2.COLOR_BGR2HSV)  \n",
    "\n",
    "    # Getting Trackbar control\n",
    "    h_min = cv2.getTrackbarPos(\"Hue Min\",\"Trackbar\")\n",
    "    h_max = cv2.getTrackbarPos(\"Hue Max\",\"Trackbar\")\n",
    "    s_min = cv2.getTrackbarPos(\"Sat Min\",\"Trackbar\")\n",
    "    s_max = cv2.getTrackbarPos(\"Sat Max\",\"Trackbar\")\n",
    "    v_min = cv2.getTrackbarPos(\"Val Min\",\"Trackbar\")\n",
    "    v_max = cv2.getTrackbarPos(\"Val Max\",\"Trackbar\")\n",
    "    lower = np.array([h_min, s_min, v_min])\n",
    "    upper = np.array([h_max, s_max, v_max])\n",
    "    mask = cv2.inRange(imghsv, lower, upper)\n",
    "    imgResult = cv2.bitwise_and(img, img, mask=mask)\n",
    "    mask = cv2.bitwise_not(mask, mask)\n",
    "    \n",
    "        # Showing image\n",
    "    cv2.imshow(\"Original\",img)\n",
    "    cv2.resizeWindow(\"Original\",250,250)\n",
    "    cv2.imshow(\"HSV\",imghsv)\n",
    "    cv2.resizeWindow(\"HSV\",250,250)\n",
    "    cv2.imshow(\"mask\",mask)\n",
    "    cv2.resizeWindow(\"mask\",250,250)\n",
    "    cv2.imshow(\"imgResult\",imgResult)\n",
    "    cv2.resizeWindow(\"imgResult\",250,250)\n",
    "    cv2.waitKey(1)"
   ]
  }
 ],
 "metadata": {
  "interpreter": {
   "hash": "2cd89a3ea580c4b0ae5d42897241e27273cc7a73769436bcc6886b4e06d16402"
  },
  "kernelspec": {
   "display_name": "Python 3.9.5 64-bit",
   "language": "python",
   "name": "python3"
  },
  "language_info": {
   "codemirror_mode": {
    "name": "ipython",
    "version": 3
   },
   "file_extension": ".py",
   "mimetype": "text/x-python",
   "name": "python",
   "nbconvert_exporter": "python",
   "pygments_lexer": "ipython3",
   "version": "3.9.5"
  },
  "orig_nbformat": 4
 },
 "nbformat": 4,
 "nbformat_minor": 2
}
